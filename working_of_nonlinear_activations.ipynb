{
  "nbformat": 4,
  "nbformat_minor": 0,
  "metadata": {
    "colab": {
      "name": "working of nonlinear activations.ipynb",
      "provenance": [],
      "authorship_tag": "ABX9TyOLYNAsF4dgnhYaxHvB4RLn",
      "include_colab_link": true
    },
    "kernelspec": {
      "name": "python3",
      "display_name": "Python 3"
    },
    "language_info": {
      "name": "python"
    }
  },
  "cells": [
    {
      "cell_type": "markdown",
      "metadata": {
        "id": "view-in-github",
        "colab_type": "text"
      },
      "source": [
        "<a href=\"https://colab.research.google.com/github/mesrp88/deep_learning_note/blob/main/working_of_nonlinear_activations.ipynb\" target=\"_parent\"><img src=\"https://colab.research.google.com/assets/colab-badge.svg\" alt=\"Open In Colab\"/></a>"
      ]
    },
    {
      "cell_type": "code",
      "metadata": {
        "id": "voRn-AESkDhi"
      },
      "source": [
        "import pandas as pd\n",
        "import numpy as np\n",
        "import matplotlib.pyplot as plt"
      ],
      "execution_count": 1,
      "outputs": []
    },
    {
      "cell_type": "markdown",
      "metadata": {
        "id": "mcQOON2j0fgs"
      },
      "source": [
        "**Using numpy**"
      ]
    },
    {
      "cell_type": "code",
      "metadata": {
        "colab": {
          "base_uri": "https://localhost:8080/",
          "height": 406
        },
        "id": "Wwa0TOHPkYGx",
        "outputId": "0d593faf-7153-4900-dacc-bef2b522c5df"
      },
      "source": [
        "x= np.linspace(-2,2, 20)\n",
        "print(x)\n",
        "def relu(value):\n",
        "  return np.maximum(value, 0)\n",
        "relu_y= relu(x)\n",
        "print(relu_y)\n",
        "plt.plot(x, relu_y)\n",
        "plt.show()"
      ],
      "execution_count": 9,
      "outputs": [
        {
          "output_type": "stream",
          "text": [
            "[-2.         -1.78947368 -1.57894737 -1.36842105 -1.15789474 -0.94736842\n",
            " -0.73684211 -0.52631579 -0.31578947 -0.10526316  0.10526316  0.31578947\n",
            "  0.52631579  0.73684211  0.94736842  1.15789474  1.36842105  1.57894737\n",
            "  1.78947368  2.        ]\n",
            "[0.         0.         0.         0.         0.         0.\n",
            " 0.         0.         0.         0.         0.10526316 0.31578947\n",
            " 0.52631579 0.73684211 0.94736842 1.15789474 1.36842105 1.57894737\n",
            " 1.78947368 2.        ]\n"
          ],
          "name": "stdout"
        },
        {
          "output_type": "display_data",
          "data": {
            "image/png": "[encoded data removed]",
            "text/plain": [
              "<Figure size 432x288 with 1 Axes>"
            ]
          },
          "metadata": {
            "tags": [],
            "needs_background": "light"
          }
        }
      ]
    },
    {
      "cell_type": "markdown",
      "metadata": {
        "id": "I5m6HWR00lI8"
      },
      "source": [
        "**Pure Python**"
      ]
    },
    {
      "cell_type": "code",
      "metadata": {
        "colab": {
          "base_uri": "https://localhost:8080/"
        },
        "id": "n0LDpt19kgoX",
        "outputId": "96d85803-1647-4805-b08d-9768d0775cc6"
      },
      "source": [
        "result=[]\n",
        "def relu_1(values):\n",
        "  for value in values:\n",
        "    if (value>0):\n",
        "      result.append(value)\n",
        "    else:\n",
        "      result.append(0)\n",
        "\n",
        "\n",
        "relu_1(x) \n",
        "result   \n",
        "    "
      ],
      "execution_count": 16,
      "outputs": [
        {
          "output_type": "execute_result",
          "data": {
            "text/plain": [
              "[0,\n",
              " 0,\n",
              " 0,\n",
              " 0,\n",
              " 0,\n",
              " 0,\n",
              " 0,\n",
              " 0,\n",
              " 0,\n",
              " 0,\n",
              " 0.10526315789473673,\n",
              " 0.3157894736842106,\n",
              " 0.5263157894736841,\n",
              " 0.7368421052631575,\n",
              " 0.9473684210526314,\n",
              " 1.1578947368421053,\n",
              " 1.3684210526315788,\n",
              " 1.5789473684210522,\n",
              " 1.789473684210526,\n",
              " 2.0]"
            ]
          },
          "metadata": {
            "tags": []
          },
          "execution_count": 16
        }
      ]
    },
    {
      "cell_type": "code",
      "metadata": {
        "colab": {
          "base_uri": "https://localhost:8080/",
          "height": 282
        },
        "id": "-dyo2-OazUNw",
        "outputId": "568b6789-4630-4739-fbf2-d0148e52ddc2"
      },
      "source": [
        "plt.plot(x, result)"
      ],
      "execution_count": 17,
      "outputs": [
        {
          "output_type": "execute_result",
          "data": {
            "text/plain": [
              "[<matplotlib.lines.Line2D at 0x7efdf0860090>]"
            ]
          },
          "metadata": {
            "tags": []
          },
          "execution_count": 17
        },
        {
          "output_type": "display_data",
          "data": {
            "image/png": "[encoded data removed]",
            "text/plain": [
              "<Figure size 432x288 with 1 Axes>"
            ]
          },
          "metadata": {
            "tags": [],
            "needs_background": "light"
          }
        }
      ]
    },
    {
      "cell_type": "markdown",
      "metadata": {
        "id": "49_y2WAPefcc"
      },
      "source": [
        "**Tanh non linear activation function**\n"
      ]
    },
    {
      "cell_type": "code",
      "metadata": {
        "colab": {
          "base_uri": "https://localhost:8080/",
          "height": 922
        },
        "id": "hZNkKUxU0Za6",
        "outputId": "ef7cd9fa-30a0-477c-82ae-f7bd4f360272"
      },
      "source": [
        "x = np.linspace(-40, 40, 100)\n",
        "tanh_y= np.tanh(x)\n",
        "print(x)\n",
        "print(tanh_y)\n",
        "plt.plot(x, tanh_y)\n",
        "plt.show()"
      ],
      "execution_count": 19,
      "outputs": [
        {
          "output_type": "stream",
          "text": [
            "[-40.         -39.19191919 -38.38383838 -37.57575758 -36.76767677\n",
            " -35.95959596 -35.15151515 -34.34343434 -33.53535354 -32.72727273\n",
            " -31.91919192 -31.11111111 -30.3030303  -29.49494949 -28.68686869\n",
            " -27.87878788 -27.07070707 -26.26262626 -25.45454545 -24.64646465\n",
            " -23.83838384 -23.03030303 -22.22222222 -21.41414141 -20.60606061\n",
            " -19.7979798  -18.98989899 -18.18181818 -17.37373737 -16.56565657\n",
            " -15.75757576 -14.94949495 -14.14141414 -13.33333333 -12.52525253\n",
            " -11.71717172 -10.90909091 -10.1010101   -9.29292929  -8.48484848\n",
            "  -7.67676768  -6.86868687  -6.06060606  -5.25252525  -4.44444444\n",
            "  -3.63636364  -2.82828283  -2.02020202  -1.21212121  -0.4040404\n",
            "   0.4040404    1.21212121   2.02020202   2.82828283   3.63636364\n",
            "   4.44444444   5.25252525   6.06060606   6.86868687   7.67676768\n",
            "   8.48484848   9.29292929  10.1010101   10.90909091  11.71717172\n",
            "  12.52525253  13.33333333  14.14141414  14.94949495  15.75757576\n",
            "  16.56565657  17.37373737  18.18181818  18.98989899  19.7979798\n",
            "  20.60606061  21.41414141  22.22222222  23.03030303  23.83838384\n",
            "  24.64646465  25.45454545  26.26262626  27.07070707  27.87878788\n",
            "  28.68686869  29.49494949  30.3030303   31.11111111  31.91919192\n",
            "  32.72727273  33.53535354  34.34343434  35.15151515  35.95959596\n",
            "  36.76767677  37.57575758  38.38383838  39.19191919  40.        ]\n",
            "[-1.         -1.         -1.         -1.         -1.         -1.\n",
            " -1.         -1.         -1.         -1.         -1.         -1.\n",
            " -1.         -1.         -1.         -1.         -1.         -1.\n",
            " -1.         -1.         -1.         -1.         -1.         -1.\n",
            " -1.         -1.         -1.         -1.         -1.         -1.\n",
            " -1.         -1.         -1.         -1.         -1.         -1.\n",
            " -1.         -1.         -0.99999998 -0.99999991 -0.99999957 -0.99999784\n",
            " -0.99998911 -0.99994521 -0.99972421 -0.99861253 -0.99303534 -0.96542742\n",
            " -0.83731466 -0.38340077  0.38340077  0.83731466  0.96542742  0.99303534\n",
            "  0.99861253  0.99972421  0.99994521  0.99998911  0.99999784  0.99999957\n",
            "  0.99999991  0.99999998  1.          1.          1.          1.\n",
            "  1.          1.          1.          1.          1.          1.\n",
            "  1.          1.          1.          1.          1.          1.\n",
            "  1.          1.          1.          1.          1.          1.\n",
            "  1.          1.          1.          1.          1.          1.\n",
            "  1.          1.          1.          1.          1.          1.\n",
            "  1.          1.          1.          1.        ]\n"
          ],
          "name": "stdout"
        },
        {
          "output_type": "display_data",
          "data": {
            "image/png": "[encoded data removed]",
            "text/plain": [
              "<Figure size 432x288 with 1 Axes>"
            ]
          },
          "metadata": {
            "tags": [],
            "needs_background": "light"
          }
        }
      ]
    },
    {
      "cell_type": "code",
      "metadata": {
        "id": "9tjdpfjR2tYk"
      },
      "source": [
        ""
      ],
      "execution_count": null,
      "outputs": []
    }
  ]
}